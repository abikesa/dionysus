{
 "cells": [
  {
   "cell_type": "markdown",
   "metadata": {},
   "source": [
    "# Pouvoir\n",
    "\n",
    "Individual agency has its [limits](https://github.com/abikesa/lor). Communication and leadership of groups transcends these limits to yield humanities greatest achievements.\n",
    "\n",
    "## Markdown + notebooks\n",
    "\n",
    "As it is markdown, you can embed images, HTML, etc into your posts!\n",
    "\n",
    "![](https://myst-parser.readthedocs.io/en/latest/_static/logo-wide.svg)\n",
    "\n",
    "You can also $add_{math}$ and\n",
    "\n",
    "$$\n",
    "math^{blocks}\n",
    "$$\n",
    "\n",
    "or\n",
    "\n",
    "$$\n",
    "\\begin{aligned}\n",
    "\\mbox{mean} la_{tex} \\\\ \\\\\n",
    "math blocks\n",
    "\\end{aligned}\n",
    "$$\n",
    "\n",
    "But make sure you \\$Escape \\$your \\$dollar signs \\$you want to keep!\n",
    "\n",
    "## MyST markdown\n",
    "\n",
    "MyST markdown works in Jupyter Notebooks as well. For more information about MyST markdown, check\n",
    "out [the MyST guide in Jupyter Book](https://jupyterbook.org/content/myst.html),\n",
    "or see [the MyST markdown documentation](https://myst-parser.readthedocs.io/en/latest/).\n",
    "\n",
    "## Code blocks and outputs\n",
    "\n",
    "Jupyter Book will also embed your code blocks and output in your book.\n",
    "For example, here's some sample Matplotlib code:"
   ]
  },
  {
   "cell_type": "code",
   "execution_count": 1,
   "metadata": {
    "tags": [
     "hide-input"
    ]
   },
   "outputs": [
    {
     "ename": "ModuleNotFoundError",
     "evalue": "No module named 'networkx'",
     "output_type": "error",
     "traceback": [
      "\u001b[0;31m---------------------------------------------------------------------------\u001b[0m",
      "\u001b[0;31mModuleNotFoundError\u001b[0m                       Traceback (most recent call last)",
      "Cell \u001b[0;32mIn[1], line 1\u001b[0m\n\u001b[0;32m----> 1\u001b[0m \u001b[38;5;28;01mimport\u001b[39;00m \u001b[38;5;21;01mnetworkx\u001b[39;00m \u001b[38;5;28;01mas\u001b[39;00m \u001b[38;5;21;01mnx\u001b[39;00m\n\u001b[1;32m      2\u001b[0m \u001b[38;5;28;01mimport\u001b[39;00m \u001b[38;5;21;01mmatplotlib\u001b[39;00m\u001b[38;5;21;01m.\u001b[39;00m\u001b[38;5;21;01mpyplot\u001b[39;00m \u001b[38;5;28;01mas\u001b[39;00m \u001b[38;5;21;01mplt\u001b[39;00m\n\u001b[1;32m      4\u001b[0m G \u001b[38;5;241m=\u001b[39m nx\u001b[38;5;241m.\u001b[39mDiGraph()\n",
      "\u001b[0;31mModuleNotFoundError\u001b[0m: No module named 'networkx'"
     ]
    }
   ],
   "source": [
    "import networkx as nx\n",
    "import matplotlib.pyplot as plt\n",
    "\n",
    "G = nx.DiGraph()\n",
    "G.add_node(\"Audio/Vision\", pos=(-2500, 700))\n",
    "G.add_node(\"Text/Language\", pos=(-4200, 0))\n",
    "G.add_node(\"Frailty\", pos=(-1000, 0))\n",
    "G.add_node(\"Haptic/Robot\", pos=(-2500, -700))\n",
    "G.add_node(\"Real-Time\", pos=(1500, 0))\n",
    "G.add_node(\"Outcome\", pos=(4000, 0))\n",
    "\n",
    "G.add_edges_from([(\"Audio/Vision\", \"Frailty\")])\n",
    "G.add_edges_from([(\"Text/Language\", \"Frailty\")])\n",
    "G.add_edges_from([(\"Haptic/Robot\", \"Frailty\")])\n",
    "G.add_edges_from([(\"Frailty\", \"Real-Time\")])\n",
    "G.add_edges_from([(\"Real-Time\", \"Outcome\")])\n",
    "\n",
    "pos = nx.get_node_attributes(G, 'pos')\n",
    "labels = {\"Frailty\": \"Frailty\\n(Phenotype)\",\n",
    "          \"Audio/Vision\": \"Audio/Vision\",\n",
    "          \"Text/Language\": \"Text/Language\",\n",
    "          \"Haptic/Robot\": \"Haptic/Robot\",\n",
    "          \"Real-Time\": \"Real-Time\",\n",
    "          \"Outcome\": \"Outcome\\n(Hard Endpoints)\"}  # Added label for \"NDI\" node in the labels dictionary\n",
    "\n",
    "# Update color for the \"Scenarios\" node\n",
    "node_colors = [\"lightblue\",\"lightblue\", \"lavender\", \"lightblue\", \"lightblue\", \"lightblue\"]\n",
    "# node_colors = [\"lightblue\",\"lavender\", \"lavender\", \"lightgreen\", \"lightpink\", \"lightpink\"]\n",
    "# Suppress the deprecation warning\n",
    "import warnings\n",
    "warnings.filterwarnings(\"ignore\", category=DeprecationWarning)\n",
    "\n",
    "plt.figure(figsize=(10, 8))\n",
    "nx.draw(G, pos, with_labels=False, node_size=20000, node_color=node_colors, linewidths=2, edge_color='black', style='solid')\n",
    "nx.draw_networkx_labels(G, pos, labels, font_size=14) # , font_weight='bold'\n",
    "nx.draw_networkx_edges(G, pos, edge_color='black', style='solid', width=2)\n",
    "plt.xlim(-5000, 5000)\n",
    "plt.ylim(-1000, 1000)\n",
    "plt.axis(\"off\")\n",
    "plt.show()"
   ]
  },
  {
   "cell_type": "markdown",
   "metadata": {},
   "source": [
    "[Revelations](https://abikesa.github.io/revolution/) when the following [parallels](https://blog.samaltman.com) are drawn:\n",
    "1. Individual/passions/challenges/experiences\n",
    "2. Knowledge\n",
    "3. Technical/skills/abilities\n",
    "4. Communication\n",
    "5. Group/membership/network/leadership/decisions/feedback/professionalism\n",
    "6. Accomplishments/exceptional\n",
    "\n",
    "These are parallels between **mentoring**, **becoming**, and **LoR**. Whether it is becoming old, frail, successful, impactful, etc. the elements and stages are three: [`individual`:: 1, 2, 3], [`signal`:: 4], [`group`::[5, 6](https://www.youtube.com/watch?v=l50EVw7C7ks)]"
   ]
  }
 ],
 "metadata": {
  "kernelspec": {
   "display_name": "Python 3",
   "language": "python",
   "name": "python3"
  },
  "language_info": {
   "codemirror_mode": {
    "name": "ipython",
    "version": 3
   },
   "file_extension": ".py",
   "mimetype": "text/x-python",
   "name": "python",
   "nbconvert_exporter": "python",
   "pygments_lexer": "ipython3",
   "version": "3.9.6"
  },
  "widgets": {
   "application/vnd.jupyter.widget-state+json": {
    "state": {},
    "version_major": 2,
    "version_minor": 0
   }
  }
 },
 "nbformat": 4,
 "nbformat_minor": 4
}