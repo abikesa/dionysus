{
 "cells": [
  {
   "cell_type": "markdown",
   "metadata": {},
   "source": [
    "# Preface \n",
    "\n",
    "> *Love looks not with the eyes, but with the mind;*              \n",
    "*And therefore is wing’d Cupid painted blind.*         \n",
    "*Nor hath love’s mind of any judgment taste.*       \n",
    "*Wings, and no eyes, figure unheedy haste.*      \n",
    "*And therefore is love said to be a child,*     \n",
    "*Because in choice he is so oft beguil’d.*      \n",
    "*As waggish boys in game themselves forswear,*     \n",
    "*So the boy Love is perjur’d everywhere.*       \n",
    "-- [Helena](https://www.gutenberg.org/files/1514/1514-h/1514-h.htm)\n",
    "\n",
    "Love marinates the mind to \"see\", think, and act in a certain way. A neural scientist would consider this a \"top-down\" modulation of sensory input. Phew!\n",
    "\n",
    "This book explores the human mind through such strokes of luck as poetry, dialogue, and music. Welcome!"
   ]
  }
 ],
 "metadata": {
  "kernelspec": {
   "display_name": "myenv",
   "language": "python",
   "name": "python3"
  },
  "language_info": {
   "codemirror_mode": {
    "name": "ipython",
    "version": 3
   },
   "file_extension": ".py",
   "mimetype": "text/x-python",
   "name": "python",
   "nbconvert_exporter": "python",
   "pygments_lexer": "ipython3",
   "version": "3.12.4"
  },
  "widgets": {
   "application/vnd.jupyter.widget-state+json": {
    "state": {},
    "version_major": 2,
    "version_minor": 0
   }
  }
 },
 "nbformat": 4,
 "nbformat_minor": 4
}
